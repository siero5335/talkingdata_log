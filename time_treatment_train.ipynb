{
 "cells": [
  {
   "cell_type": "code",
   "execution_count": 1,
   "metadata": {},
   "outputs": [],
   "source": [
    "import os"
   ]
  },
  {
   "cell_type": "code",
   "execution_count": 2,
   "metadata": {},
   "outputs": [],
   "source": [
    "os.chdir('/Users/siero5335/Desktop/talking/')"
   ]
  },
  {
   "cell_type": "code",
   "execution_count": 3,
   "metadata": {},
   "outputs": [],
   "source": [
    "import gc\n",
    "import numpy as np\n",
    "import pandas as pd\n",
    "import matplotlib.pyplot as plt\n",
    "\n",
    "# Load subset of the training data\n",
    "X_train = pd.read_csv('train.csv', parse_dates=['click_time'])"
   ]
  },
  {
   "cell_type": "code",
   "execution_count": 4,
   "metadata": {},
   "outputs": [],
   "source": [
    "X_train['day'] = X_train['click_time'].dt.day.astype('uint8')\n",
    "X_train['hour'] = X_train['click_time'].dt.hour.astype('uint8')\n",
    "X_train['minute'] = X_train['click_time'].dt.minute.astype('uint8')\n",
    "X_train['second'] = X_train['click_time'].dt.second.astype('uint8')"
   ]
  },
  {
   "cell_type": "code",
   "execution_count": 6,
   "metadata": {},
   "outputs": [
    {
     "name": "stdout",
     "output_type": "stream",
     "text": [
      ">> Grouping by ['ip'], and saving time to next click in: ip_nextClick\n",
      ">> Grouping by ['ip', 'app'], and saving time to next click in: ip_app_nextClick\n",
      ">> Grouping by ['ip', 'channel'], and saving time to next click in: ip_channel_nextClick\n",
      ">> Grouping by ['ip', 'os'], and saving time to next click in: ip_os_nextClick\n"
     ]
    }
   ],
   "source": [
    "GROUP_BY_NEXT_CLICKS = [\n",
    "    \n",
    "    # V1\n",
    "    {'groupby': ['ip']},\n",
    "    {'groupby': ['ip', 'app']},\n",
    "    {'groupby': ['ip', 'channel']},\n",
    "    {'groupby': ['ip', 'os']},\n",
    "]\n",
    "\n",
    "# Calculate the time to next click for each group\n",
    "for spec in GROUP_BY_NEXT_CLICKS:\n",
    "    \n",
    "    # Name of new feature\n",
    "    new_feature = '{}_nextClick'.format('_'.join(spec['groupby']))    \n",
    "    \n",
    "    # Unique list of features to select\n",
    "    all_features = spec['groupby'] + ['click_time']\n",
    "    \n",
    "    # Run calculation\n",
    "    print(f\">> Grouping by {spec['groupby']}, and saving time to next click in: {new_feature}\")\n",
    "    X_train[new_feature] = X_train[all_features].groupby(spec['groupby']).click_time.transform(lambda x: x.diff().shift(-1)).dt.seconds\n",
    "\n",
    "    \n",
    "trainV1 = X_train.drop(['ip', 'app', 'device', 'os', 'channel', 'click_time', 'attributed_time', 'is_attributed', 'day', 'hour', 'minute', 'second'], axis=1)\n",
    "trainV1.to_csv(\"trainV1.csv\")"
   ]
  },
  {
   "cell_type": "code",
   "execution_count": 7,
   "metadata": {},
   "outputs": [],
   "source": [
    "X_test = pd.read_csv('test.csv', parse_dates=['click_time'])"
   ]
  },
  {
   "cell_type": "code",
   "execution_count": 8,
   "metadata": {},
   "outputs": [],
   "source": [
    "X_test['day'] = X_test['click_time'].dt.day.astype('uint8')\n",
    "X_test['hour'] = X_test['click_time'].dt.hour.astype('uint8')\n",
    "X_test['minute'] = X_test['click_time'].dt.minute.astype('uint8')\n",
    "X_test['second'] = X_test['click_time'].dt.second.astype('uint8')"
   ]
  },
  {
   "cell_type": "code",
   "execution_count": 10,
   "metadata": {},
   "outputs": [
    {
     "name": "stdout",
     "output_type": "stream",
     "text": [
      ">> Grouping by ['ip'], and saving time to next click in: ip_nextClick\n",
      ">> Grouping by ['ip', 'app'], and saving time to next click in: ip_app_nextClick\n",
      ">> Grouping by ['ip', 'channel'], and saving time to next click in: ip_channel_nextClick\n",
      ">> Grouping by ['ip', 'os'], and saving time to next click in: ip_os_nextClick\n"
     ]
    }
   ],
   "source": [
    "GROUP_BY_NEXT_CLICKS = [\n",
    "    \n",
    "    # V1\n",
    "    {'groupby': ['ip']},\n",
    "    {'groupby': ['ip', 'app']},\n",
    "    {'groupby': ['ip', 'channel']},\n",
    "    {'groupby': ['ip', 'os']},\n",
    "]\n",
    "\n",
    "# Calculate the time to next click for each group\n",
    "for spec in GROUP_BY_NEXT_CLICKS:\n",
    "    \n",
    "    # Name of new feature\n",
    "    new_feature = '{}_nextClick'.format('_'.join(spec['groupby']))    \n",
    "    \n",
    "    # Unique list of features to select\n",
    "    all_features = spec['groupby'] + ['click_time']\n",
    "    \n",
    "    # Run calculation\n",
    "    print(f\">> Grouping by {spec['groupby']}, and saving time to next click in: {new_feature}\")\n",
    "    X_test[new_feature] = X_test[all_features].groupby(spec['groupby']).click_time.transform(lambda x: x.diff().shift(-1)).dt.seconds\n",
    "\n",
    "    \n",
    "testV1 = X_test.drop(['ip', 'app', 'device', 'os', 'channel', 'click_time',  'day', 'hour', 'minute', 'second'], axis=1)\n",
    "testV1.to_csv(\"test.csv\")"
   ]
  },
  {
   "cell_type": "code",
   "execution_count": null,
   "metadata": {},
   "outputs": [],
   "source": []
  }
 ],
 "metadata": {
  "kernelspec": {
   "display_name": "Python 3",
   "language": "python",
   "name": "python3"
  },
  "language_info": {
   "codemirror_mode": {
    "name": "ipython",
    "version": 3
   },
   "file_extension": ".py",
   "mimetype": "text/x-python",
   "name": "python",
   "nbconvert_exporter": "python",
   "pygments_lexer": "ipython3",
   "version": "3.6.4"
  }
 },
 "nbformat": 4,
 "nbformat_minor": 2
}
