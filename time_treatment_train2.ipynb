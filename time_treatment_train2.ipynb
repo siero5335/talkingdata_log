{
 "cells": [
  {
   "cell_type": "code",
   "execution_count": 1,
   "metadata": {},
   "outputs": [],
   "source": [
    "import os"
   ]
  },
  {
   "cell_type": "code",
   "execution_count": 4,
   "metadata": {},
   "outputs": [],
   "source": [
    "import time\n",
    "import numpy as np\n",
    "import pandas as pd"
   ]
  },
  {
   "cell_type": "code",
   "execution_count": 8,
   "metadata": {},
   "outputs": [],
   "source": [
    "os.chdir('/Users/siero5335/Desktop/talking/')"
   ]
  },
  {
   "cell_type": "code",
   "execution_count": 18,
   "metadata": {},
   "outputs": [],
   "source": [
    "dtype = {\n",
    "    'ip': np.int32,\n",
    "    'app': np.int16,\n",
    "    'device': np.int16,\n",
    "    'os': np.int16,\n",
    "    'channel': np.int16,\n",
    "    'click_time': object,\n",
    "}"
   ]
  },
  {
   "cell_type": "code",
   "execution_count": 17,
   "metadata": {},
   "outputs": [],
   "source": [
    "df1 = pd.read_csv('test.csv', dtype=dtype, usecols=dtype.keys(), parse_dates=['click_time'])"
   ]
  },
  {
   "cell_type": "code",
   "execution_count": 19,
   "metadata": {},
   "outputs": [
    {
     "name": "stdout",
     "output_type": "stream",
     "text": [
      "Elapsed: 10.079229831695557 seconds\n"
     ]
    }
   ],
   "source": [
    "start = time.time()\n",
    "df1['click_time'] = (df1['click_time'].astype(np.int64) // 10 ** 9).astype(np.int32)\n",
    "df1['nextClick'] = (df1.groupby(['ip', 'app', 'device', 'os']).click_time.shift(-1) - df1.click_time).astype(np.float32)\n",
    "print('Elapsed: {} seconds'.format(time.time() - start))\n",
    "df1.to_csv(\"testV1.csv\")"
   ]
  },
  {
   "cell_type": "code",
   "execution_count": 14,
   "metadata": {},
   "outputs": [],
   "source": [
    "df2 = pd.read_csv('train.csv', dtype=dtype, usecols=dtype.keys(), parse_dates=['click_time'])"
   ]
  },
  {
   "cell_type": "code",
   "execution_count": null,
   "metadata": {},
   "outputs": [
    {
     "name": "stdout",
     "output_type": "stream",
     "text": [
      "Elapsed: 184.01727175712585 seconds\n"
     ]
    }
   ],
   "source": [
    "start = time.time()\n",
    "df2['click_time'] = (df2['click_time'].astype(np.int64) // 10 ** 9).astype(np.int32)\n",
    "df2['nextClick'] = (df2.groupby(['ip', 'app', 'device', 'os']).click_time.shift(-1) - df2.click_time).astype(np.float32)\n",
    "print('Elapsed: {} seconds'.format(time.time() - start))\n",
    "df2.to_csv(\"trainV1.csv\")"
   ]
  },
  {
   "cell_type": "code",
   "execution_count": null,
   "metadata": {},
   "outputs": [],
   "source": []
  }
 ],
 "metadata": {
  "kernelspec": {
   "display_name": "Python 3",
   "language": "python",
   "name": "python3"
  },
  "language_info": {
   "codemirror_mode": {
    "name": "ipython",
    "version": 3
   },
   "file_extension": ".py",
   "mimetype": "text/x-python",
   "name": "python",
   "nbconvert_exporter": "python",
   "pygments_lexer": "ipython3",
   "version": "3.6.4"
  }
 },
 "nbformat": 4,
 "nbformat_minor": 2
}
